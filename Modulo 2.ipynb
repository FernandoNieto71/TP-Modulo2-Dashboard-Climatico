{
 "cells": [
  {
   "cell_type": "markdown",
   "id": "a7575c61",
   "metadata": {},
   "source": [
    "arrancamos otra vez\n",
    "carga y normalizacion de datos"
   ]
  },
  {
   "cell_type": "code",
   "execution_count": 2,
   "id": "b596b8de",
   "metadata": {},
   "outputs": [],
   "source": [
    "import pandas as pd\n",
    "import sqlite3\n",
    "import os\n",
    "\n",
    "## 📁 Rutas\n",
    "#carpeta = r\"C:\\UniCABA\\Programacion Avanzada para Cs Datos\\TP-modulo_2\"\n",
    "#csv_path = os.path.join(carpeta, \"ESTADISTICAS CLIMATICAS NORMALES.CSV\")\n",
    "#txt_path = os.path.join(carpeta, \"ESTACIONES METEOROLOGICAS.TXT\")\n",
    "#db_path = os.path.join(carpeta, \"clima.db\")\n",
    "#\n",
    "\n",
    "#rutas \n",
    "\n",
    "base_dir = os.getcwd()\n",
    "csv_path = os.path.join(base_dir, \"datasets\", \"ESTADISTICAS CLIMATICAS NORMALES.CSV\")\n",
    "txt_path = os.path.join(base_dir, \"datasets\", \"ESTACIONES METEOROLOGICAS.TXT\")\n",
    "db_path = os.path.join(base_dir, \"clima.db\")\n",
    "html_path = os.path.join(base_dir, \"dashboard_climatico.html\")\n",
    "mapas_path = os.path.join(base_dir, \"mapas\")\n",
    "\n",
    "\n",
    "\n",
    "# 📥 Leer archivos\n",
    "df_csv = pd.read_csv(csv_path, sep=\";\", encoding=\"latin1\")\n",
    "df_txt = pd.read_csv(txt_path, sep=\",\", encoding=\"latin1\")\n",
    "\n",
    "# 🧼 Normalizar columnas y textos\n",
    "df_csv.columns = df_csv.columns.str.strip().str.upper()\n",
    "df_txt.columns = df_txt.columns.str.strip().str.upper()\n",
    "\n",
    "def normalizar(s):\n",
    "    return (str(s).upper().strip()\n",
    "            .replace(\"Á\", \"A\").replace(\"É\", \"E\").replace(\"Í\", \"I\")\n",
    "            .replace(\"Ó\", \"O\").replace(\"Ú\", \"U\").replace(\"Ñ\", \"N\"))\n",
    "\n",
    "df_csv[\"ESTACIÓN\"] = df_csv[\"ESTACIÓN\"].apply(normalizar)\n",
    "df_txt[\"NOMBRE\"] = df_txt[\"NOMBRE\"].apply(normalizar)\n"
   ]
  },
  {
   "cell_type": "markdown",
   "id": "65163f40",
   "metadata": {},
   "source": [
    "transformacion y union"
   ]
  },
  {
   "cell_type": "code",
   "execution_count": 3,
   "id": "053ab167",
   "metadata": {},
   "outputs": [],
   "source": [
    "# 📐 CSV a formato largo\n",
    "df_largo = df_csv.melt(\n",
    "    id_vars=[\"ESTACIÓN\", \"VALOR MEDIO DE\"],\n",
    "    var_name=\"MES\",\n",
    "    value_name=\"VALOR\"\n",
    ")\n",
    "\n",
    "# 🔗 Unir con coordenadas\n",
    "df_final = df_largo.merge(\n",
    "    df_txt[[\"NOMBRE\", \"LATITUD\", \"LONGITUD\"]],\n",
    "    left_on=\"ESTACIÓN\",\n",
    "    right_on=\"NOMBRE\",\n",
    "    how=\"left\"\n",
    ").drop(columns=[\"NOMBRE\"])\n"
   ]
  },
  {
   "cell_type": "markdown",
   "id": "3cfabd1f",
   "metadata": {},
   "source": [
    "guardado en sqlite"
   ]
  },
  {
   "cell_type": "code",
   "execution_count": 4,
   "id": "a5c72185",
   "metadata": {},
   "outputs": [
    {
     "name": "stdout",
     "output_type": "stream",
     "text": [
      "✅ Base 'clima.db' actualizada\n"
     ]
    }
   ],
   "source": [
    "# 🗃️ Guardar en base SQLite\n",
    "conn = sqlite3.connect(db_path)\n",
    "cursor = conn.cursor()\n",
    "cursor.execute(\"DROP TABLE IF EXISTS datos_climaticos\")\n",
    "df_final.to_sql(\"datos_climaticos\", conn, index=False)\n",
    "conn.close()\n",
    "\n",
    "print(\"✅ Base 'clima.db' actualizada\")\n"
   ]
  },
  {
   "cell_type": "markdown",
   "id": "4cf807b2",
   "metadata": {},
   "source": [
    "verifico que existen datos null y busco la informacion de los que no machearon y se lo agrego con update"
   ]
  },
  {
   "cell_type": "code",
   "execution_count": 5,
   "id": "5b9dbac4",
   "metadata": {},
   "outputs": [
    {
     "name": "stdout",
     "output_type": "stream",
     "text": [
      "✅ Coordenadas actualizadas para BUENOS AIRES\n",
      "✅ Coordenadas actualizadas para LA QUIACA OBS.\n",
      "✅ Coordenadas actualizadas para MALARGÜE AERO\n",
      "✅ Coordenadas actualizadas para PIGÜE AERO\n",
      "✅ Coordenadas actualizadas para PILAR OBS.\n",
      "✅ Coordenadas actualizadas para SAN MIGUEL\n",
      "✅ Coordenadas actualizadas para VILLA MARIA DEL RIO SECO\n"
     ]
    }
   ],
   "source": [
    "# 🛠️ Correcciones manuales de LATITUD y LONGITUD\n",
    "correcciones = [\n",
    "    {\"ESTACIÓN\": \"BUENOS AIRES\", \"LATITUD\": -34.61315, \"LONGITUD\": -58.37723},\n",
    "    {\"ESTACIÓN\": \"LA QUIACA OBS.\", \"LATITUD\": -22.10448, \"LONGITUD\": -65.59646},\n",
    "    {\"ESTACIÓN\": \"MALARGÜE AERO\", \"LATITUD\": -35.47791, \"LONGITUD\": -69.58521},\n",
    "    {\"ESTACIÓN\": \"PIGÜE AERO\", \"LATITUD\": -37.60255, \"LONGITUD\": -62.40836},\n",
    "    {\"ESTACIÓN\": \"PILAR OBS.\", \"LATITUD\": -34.45867, \"LONGITUD\": -58.91398},\n",
    "    {\"ESTACIÓN\": \"SAN MIGUEL\", \"LATITUD\": -34.54335, \"LONGITUD\": -58.71229},\n",
    "    {\"ESTACIÓN\": \"VILLA MARIA DEL RIO SECO\", \"LATITUD\": -29.90651, \"LONGITUD\": -63.72260}\n",
    "]\n",
    "\n",
    "# 🔄 Aplicar UPDATE en SQLite\n",
    "conn = sqlite3.connect(db_path)\n",
    "cursor = conn.cursor()\n",
    "\n",
    "for item in correcciones:\n",
    "    cursor.execute(\"\"\"\n",
    "        UPDATE datos_climaticos\n",
    "        SET LATITUD = ?, LONGITUD = ?\n",
    "        WHERE ESTACIÓN LIKE ?\n",
    "    \"\"\", (item[\"LATITUD\"], item[\"LONGITUD\"], item[\"ESTACIÓN\"]))\n",
    "    print(f\"✅ Coordenadas actualizadas para {item['ESTACIÓN']}\")\n",
    "\n",
    "conn.commit()\n",
    "conn.close()\n"
   ]
  },
  {
   "cell_type": "markdown",
   "id": "486a48d9",
   "metadata": {},
   "source": [
    "carga desde bases de datos y kpi's"
   ]
  },
  {
   "cell_type": "code",
   "execution_count": 7,
   "id": "24c65f3d",
   "metadata": {},
   "outputs": [
    {
     "name": "stdout",
     "output_type": "stream",
     "text": [
      "🌡️ Temp. Promedio: 15.0 °C\n",
      "💧 Humedad Prom.: 68.0 %\n",
      "🌬️ Viento Prom.: 12.7 km/h\n"
     ]
    }
   ],
   "source": [
    "# 🧼 Normalizar etiquetas para evitar errores de coincidencia\n",
    "df_final[\"VALOR MEDIO DE\"] = df_final[\"VALOR MEDIO DE\"].str.strip().str.upper()\n",
    "\n",
    "# 🔢 Convertir VALOR a numérico, ignorando errores\n",
    "df_final[\"VALOR LIMPIO\"] = pd.to_numeric(df_final[\"VALOR\"], errors=\"coerce\")\n",
    "\n",
    "# 🎯 Función para calcular promedio por categoría\n",
    "def calcular_promedio(df, categoria):\n",
    "    filtro = df[\"VALOR MEDIO DE\"] == categoria.upper()\n",
    "    valores_validos = df.loc[filtro, \"VALOR LIMPIO\"].dropna()\n",
    "    return valores_validos.mean()\n",
    "\n",
    "# 📊 KPIs\n",
    "temp_prom = calcular_promedio(df_final, \"TEMPERATURA (°C)\")\n",
    "humedad_prom = calcular_promedio(df_final, \"HUMEDAD RELATIVA (%)\")\n",
    "viento_prom = calcular_promedio(df_final, \"VELOCIDAD DEL VIENTO (KM/H)\")\n",
    "\n",
    "# 📢 Mostrar resultados\n",
    "print(f\"🌡️ Temp. Promedio: {temp_prom:.1f} °C\")\n",
    "print(f\"💧 Humedad Prom.: {humedad_prom:.1f} %\")\n",
    "print(f\"🌬️ Viento Prom.: {viento_prom:.1f} km/h\")\n",
    "\n",
    "\n"
   ]
  },
  {
   "cell_type": "markdown",
   "id": "8bf1cd24",
   "metadata": {},
   "source": [
    "graficos mensuales con drilldown"
   ]
  },
  {
   "cell_type": "code",
   "execution_count": 8,
   "id": "f9d5bec4",
   "metadata": {},
   "outputs": [
    {
     "data": {
      "application/vnd.jupyter.widget-view+json": {
       "model_id": "44e680a4aa7045829fb3501b999dd0fb",
       "version_major": 2,
       "version_minor": 0
      },
      "text/plain": [
       "Dropdown(description='Variable:', options=('TEMPERATURA (°C)', 'TEMPERATURA MÁXIMA (°C)', 'TEMPERATURA MÍNIMA …"
      ]
     },
     "metadata": {},
     "output_type": "display_data"
    },
    {
     "data": {
      "application/vnd.jupyter.widget-view+json": {
       "model_id": "4169dce8675b456498dc85aebbc5a421",
       "version_major": 2,
       "version_minor": 0
      },
      "text/plain": [
       "interactive(children=(Dropdown(description='Variable:', options=('TEMPERATURA (°C)', 'TEMPERATURA MÁXIMA (°C)'…"
      ]
     },
     "metadata": {},
     "output_type": "display_data"
    },
    {
     "data": {
      "text/plain": [
       "<function __main__.graficar_variable(var)>"
      ]
     },
     "execution_count": 8,
     "metadata": {},
     "output_type": "execute_result"
    }
   ],
   "source": [
    "import plotly.express as px\n",
    "import ipywidgets as widgets\n",
    "from IPython.display import display\n",
    "\n",
    "# 📋 Dropdown de variables disponibles\n",
    "variables = df_final[\"VALOR MEDIO DE\"].unique().tolist()\n",
    "dropdown = widgets.Dropdown(options=variables, description=\"Variable:\")\n",
    "display(dropdown)\n",
    "\n",
    "# 📈 Función para graficar variable seleccionada\n",
    "def graficar_variable(var):\n",
    "    df_var = df_final[df_final[\"VALOR MEDIO DE\"] == var].copy()\n",
    "\n",
    "    # 🧼 Convertir a numérico y eliminar nulos\n",
    "    df_var[\"VALOR LIMPIO\"] = pd.to_numeric(df_var[\"VALOR\"], errors=\"coerce\")\n",
    "    df_var = df_var.dropna(subset=[\"VALOR LIMPIO\", \"MES\", \"ESTACIÓN\"])\n",
    "\n",
    "    # 🔍 Validación\n",
    "    if df_var.empty:\n",
    "        print(f\"⚠️ No hay datos válidos para la variable: {var}\")\n",
    "        return\n",
    "\n",
    "    fig = px.line(df_var,\n",
    "                  x=\"MES\", y=\"VALOR LIMPIO\", color=\"ESTACIÓN\",\n",
    "                  title=f\"Evolución mensual de {var}\",\n",
    "                  width=800, height=500)\n",
    "    fig.show()\n",
    "\n",
    "# 🧠 Activar interactividad (fuera de la función)\n",
    "widgets.interact(graficar_variable, var=dropdown)\n",
    "\n"
   ]
  },
  {
   "cell_type": "markdown",
   "id": "ae80b7d5",
   "metadata": {},
   "source": [
    "mapa interactivo por mes"
   ]
  },
  {
   "cell_type": "code",
   "execution_count": null,
   "id": "05586261",
   "metadata": {},
   "outputs": [
    {
     "name": "stdout",
     "output_type": "stream",
     "text": [
      "['TEMPERATURA (°C)' 'TEMPERATURA MÁXIMA (°C)' 'TEMPERATURA MÍNIMA (°C)'\n",
      " 'HUMEDAD RELATIVA (%)' 'VELOCIDAD DEL VIENTO (KM/H)'\n",
      " 'NUBOSIDAD TOTAL (OCTAVOS)' 'PRECIPITACIÓN (MM)'\n",
      " 'FRECUENCIA DE DÍAS CON PRECIPITACIÓN SUPERIOR A 0.1 MM']\n"
     ]
    }
   ],
   "source": [
    "print(df_final[\"VALOR MEDIO DE\"].dropna().unique())\n",
    "\n"
   ]
  },
  {
   "cell_type": "markdown",
   "id": "ecc40b30",
   "metadata": {},
   "source": [
    "limpieza y normalización clave para asegurar que el DataFrame esté listo para análisis, visualización y exportación."
   ]
  },
  {
   "cell_type": "code",
   "execution_count": null,
   "id": "48b3d8ee",
   "metadata": {},
   "outputs": [],
   "source": [
    "df_final[\"VALOR MEDIO DE\"] = df_final[\"VALOR MEDIO DE\"].str.strip().str.upper()\n",
    "df_final[\"VALOR LIMPIO\"] = pd.to_numeric(df_final[\"VALOR\"], errors=\"coerce\")\n",
    "df_final[\"LATITUD\"] = pd.to_numeric(df_final[\"LATITUD\"], errors=\"coerce\")\n",
    "df_final[\"LONGITUD\"] = pd.to_numeric(df_final[\"LONGITUD\"], errors=\"coerce\")\n",
    "\n",
    "\n"
   ]
  },
  {
   "cell_type": "markdown",
   "id": "bb0e4c9e",
   "metadata": {},
   "source": [
    "filtrado específico dentro del DataFrame df_mapa, Extraer únicamente los registros que corresponden a la variable \"TEMPERATURA MÁXIMA (°C)\" dentro del conjunto de datos ya filtrado por mes (df_mapa)"
   ]
  },
  {
   "cell_type": "code",
   "execution_count": 12,
   "id": "b3dd1620",
   "metadata": {},
   "outputs": [],
   "source": [
    "df_max = df_final[df_final[\"VALOR MEDIO DE\"] == \"TEMPERATURA MÁXIMA (°C)\"]\n"
   ]
  },
  {
   "cell_type": "markdown",
   "id": "0a4f36ba",
   "metadata": {},
   "source": [
    "generacion mapa"
   ]
  },
  {
   "cell_type": "code",
   "execution_count": 13,
   "id": "12ee34f2",
   "metadata": {},
   "outputs": [
    {
     "data": {
      "application/vnd.jupyter.widget-view+json": {
       "model_id": "6d3ae96f338c4bbba857e577a76ad2ce",
       "version_major": 2,
       "version_minor": 0
      },
      "text/plain": [
       "Dropdown(description='Mes:', options=('Todos', 'ENE', 'FEB', 'MAR', 'ABR', 'MAY', 'JUN', 'JUL', 'AGO', 'SEP', …"
      ]
     },
     "metadata": {},
     "output_type": "display_data"
    },
    {
     "data": {
      "application/vnd.jupyter.widget-view+json": {
       "model_id": "9947c10e7af64632be0d47c937d6b849",
       "version_major": 2,
       "version_minor": 0
      },
      "text/plain": [
       "interactive(children=(Dropdown(description='Mes:', options=('Todos', 'ENE', 'FEB', 'MAR', 'ABR', 'MAY', 'JUN',…"
      ]
     },
     "metadata": {},
     "output_type": "display_data"
    },
    {
     "data": {
      "text/plain": [
       "<function __main__.mostrar_mapa(mes)>"
      ]
     },
     "execution_count": 13,
     "metadata": {},
     "output_type": "execute_result"
    }
   ],
   "source": [
    "import plotly.express as px\n",
    "import ipywidgets as widgets\n",
    "from IPython.display import display\n",
    "\n",
    "# 🧼 Normalizar etiquetas y convertir columnas\n",
    "df_final[\"VALOR MEDIO DE\"] = df_final[\"VALOR MEDIO DE\"].str.strip().str.upper()\n",
    "df_final[\"VALOR LIMPIO\"] = pd.to_numeric(df_final[\"VALOR\"], errors=\"coerce\")\n",
    "df_final[\"LATITUD\"] = pd.to_numeric(df_final[\"LATITUD\"], errors=\"coerce\")\n",
    "df_final[\"LONGITUD\"] = pd.to_numeric(df_final[\"LONGITUD\"], errors=\"coerce\")\n",
    "\n",
    "# 📋 Dropdown de meses\n",
    "meses = df_final[\"MES\"].dropna().unique().tolist()\n",
    "dropdown_mes = widgets.Dropdown(options=[\"Todos\"] + meses, description=\"Mes:\")\n",
    "display(dropdown_mes)\n",
    "\n",
    "# 📈 Función para mostrar mapas\n",
    "def mostrar_mapa(mes):\n",
    "    df_mapa = df_final.copy() if mes == \"Todos\" else df_final[df_final[\"MES\"] == mes]\n",
    "\n",
    "    df_mapa = df_mapa.dropna(subset=[\"VALOR LIMPIO\", \"LATITUD\", \"LONGITUD\", \"ESTACIÓN\"])\n",
    "\n",
    "    for tipo in [\"TEMPERATURA MÁXIMA (°C)\", \"TEMPERATURA MÍNIMA (°C)\"]:\n",
    "        cantidad = df_mapa[df_mapa[\"VALOR MEDIO DE\"] == tipo][\"VALOR LIMPIO\"].count()\n",
    "        print(f\"🔎 {tipo} en {mes}: {cantidad} registros válidos\")\n",
    "\n",
    "    for tipo in [\"TEMPERATURA MÁXIMA (°C)\", \"TEMPERATURA MÍNIMA (°C)\"]:\n",
    "        df_temp = df_mapa[df_mapa[\"VALOR MEDIO DE\"] == tipo].copy()\n",
    "        df_temp[\"VALOR SIZE\"] = df_temp[\"VALOR LIMPIO\"].abs()\n",
    "\n",
    "        fig = px.scatter_map(df_temp,\n",
    "                             lat=\"LATITUD\", lon=\"LONGITUD\",\n",
    "                             color=\"VALOR LIMPIO\", size=\"VALOR SIZE\",\n",
    "                             hover_name=\"ESTACIÓN\",\n",
    "                             zoom=4, height=500,\n",
    "                             title=f\"Mapa de temperatura {tipo.split()[1]} - {mes}\")\n",
    "        fig.update_layout(mapbox_style=\"open-street-map\")\n",
    "\n",
    "        if df_temp.empty:\n",
    "            fig.add_annotation(\n",
    "                text=\"⚠️ No se encontraron registros válidos para esta variable.\",\n",
    "                showarrow=False,\n",
    "                font=dict(size=16),\n",
    "                xref=\"paper\", yref=\"paper\",\n",
    "                x=0.5, y=0.5\n",
    "            )\n",
    "\n",
    "        fig.show()\n",
    "\n",
    "# 🧠 Activar interactividad\n",
    "widgets.interact(mostrar_mapa, mes=dropdown_mes)\n"
   ]
  },
  {
   "cell_type": "markdown",
   "id": "7910bba0",
   "metadata": {},
   "source": [
    "exportar como html, este codigo se debe ejecutar desde una consola bash\n",
    "\n",
    "jupyter nbconvert \"modulo 2.ipynb\" --to html --output TP_climatico.html\n",
    "\n"
   ]
  }
 ],
 "metadata": {
  "kernelspec": {
   "display_name": "Python 3",
   "language": "python",
   "name": "python3"
  },
  "language_info": {
   "codemirror_mode": {
    "name": "ipython",
    "version": 3
   },
   "file_extension": ".py",
   "mimetype": "text/x-python",
   "name": "python",
   "nbconvert_exporter": "python",
   "pygments_lexer": "ipython3",
   "version": "3.11.9"
  }
 },
 "nbformat": 4,
 "nbformat_minor": 5
}
